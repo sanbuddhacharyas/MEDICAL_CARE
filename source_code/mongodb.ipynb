{
 "cells": [
  {
   "cell_type": "code",
   "execution_count": 1,
   "metadata": {},
   "outputs": [],
   "source": [
    "#importing class form library pymongo\n",
    "from pymongo import MongoClient\n",
    "from database import Database\n",
    "import pymongo"
   ]
  },
  {
   "cell_type": "code",
   "execution_count": null,
   "metadata": {},
   "outputs": [],
   "source": [
    "#creating instance of class MongoClient\n",
    "client = MongoClient('localhost' , 27017)"
   ]
  },
  {
   "cell_type": "code",
   "execution_count": null,
   "metadata": {},
   "outputs": [],
   "source": [
    "#Creating databases from instance/object named 'Medicare_report'\n",
    "db = client['Medicare_report']\n"
   ]
  },
  {
   "cell_type": "markdown",
   "metadata": {},
   "source": [
    "<b>#Getting collection</b> <br>\n",
    "A collection is a group of documents stored in MongoDB, and can be thought of as roughly the equivalent of a table in a relational database. Getting a collection in PyMongo works the same as getting a database"
   ]
  },
  {
   "cell_type": "code",
   "execution_count": null,
   "metadata": {},
   "outputs": [],
   "source": [
    "collections = db['Heart_Beat']"
   ]
  },
  {
   "cell_type": "markdown",
   "metadata": {},
   "source": [
    "<b>An important note about collections (and databases) in MongoDB is that they are created lazily - none of the above commands have actually performed any operations on the MongoDB server. Collections and databases are created when the first document is inserted into them.</b>"
   ]
  },
  {
   "cell_type": "markdown",
   "metadata": {},
   "source": [
    "<b> Documents</b> <br> \n",
    "Data in MongoDB is represented (and stored) using JSON-style documents. In PyMongo we use dictionaries to represent documents. As an example, the following dictionary might be used to represent a blog post:"
   ]
  },
  {
   "cell_type": "code",
   "execution_count": null,
   "metadata": {},
   "outputs": [],
   "source": [
    "dictionary = {\"Name\" : \"Sangam Man Buddhacharya\",\n",
    "              \"Age\"  :  21,\n",
    "              \"Sex\"  : \"Male\",\n",
    "              \"Height\" : 167\n",
    "              \n",
    "             }dictionary ="
   ]
  },
  {
   "cell_type": "code",
   "execution_count": null,
   "metadata": {},
   "outputs": [],
   "source": []
  },
  {
   "cell_type": "code",
   "execution_count": null,
   "metadata": {},
   "outputs": [],
   "source": [
    "print(idd.inserted_id)"
   ]
  },
  {
   "cell_type": "code",
   "execution_count": null,
   "metadata": {},
   "outputs": [],
   "source": [
    "collections.insert_one({\"Name\" : \"Kiran Dawadi\",\n",
    "                       \"Age\" : 20,\n",
    "                        \"Sex\" : \"Male\",\n",
    "                       \"Height\": 170})"
   ]
  },
  {
   "cell_type": "code",
   "execution_count": null,
   "metadata": {},
   "outputs": [],
   "source": [
    "db.list_collection_names()"
   ]
  },
  {
   "cell_type": "markdown",
   "metadata": {},
   "source": [
    "<b>Getting a Single Document With find_one()</b> <br>\n",
    "\n",
    "The most basic type of query that can be performed in MongoDB is  find_one(). This method returns a single document matching a query (or None if there are no matches). It is useful when you know there is only one matching document, or are only interested in the first match. Here we use find_one() to get the first document from the posts collection:"
   ]
  },
  {
   "cell_type": "code",
   "execution_count": null,
   "metadata": {},
   "outputs": [],
   "source": [
    "output = collections.find_one({\"Age\" : 20})\n",
    "print(output)"
   ]
  },
  {
   "cell_type": "code",
   "execution_count": null,
   "metadata": {},
   "outputs": [],
   "source": [
    "c = output[\"_id\"]\n",
    "print(c)"
   ]
  },
  {
   "cell_type": "code",
   "execution_count": null,
   "metadata": {},
   "outputs": [],
   "source": [
    "out = collections.find_one({\"_id\": c})"
   ]
  },
  {
   "cell_type": "code",
   "execution_count": null,
   "metadata": {},
   "outputs": [],
   "source": [
    "print(out)"
   ]
  },
  {
   "cell_type": "markdown",
   "metadata": {},
   "source": [
    "<b>Bulk Inserts</b> <br>\n",
    "\n",
    "In order to make querying a little more interesting, let’s insert a few more documents. In addition to inserting a single document, we can also perform bulk insert operations, by passing a list as the first argument to insert_many(). This will insert each document in the list, sending only a single command to the server:"
   ]
  },
  {
   "cell_type": "code",
   "execution_count": null,
   "metadata": {},
   "outputs": [],
   "source": [
    "collection= db[\"collection2\"]"
   ]
  },
  {
   "cell_type": "code",
   "execution_count": null,
   "metadata": {},
   "outputs": [],
   "source": [
    "dictionary = [{\"Name\" : \"Sasi shrestha\",\n",
    "              \"Age\" : 20,\n",
    "              \"Sex\" : \"Female\",\n",
    "              \"Height\" : 160, \n",
    "              \"user_id\" : 0} ,\n",
    "              \n",
    "              \n",
    "              {\n",
    "                \"Name\" : \"Suman shah\",\n",
    "                \"Age\" : 21,\n",
    "                \"Sex\" : \"Male\",\n",
    "                \"Height\" : 170,\n",
    "                \"user_id\" : 1\n",
    "              } ,\n",
    "                 \n",
    "              \n",
    "                {\n",
    "                \"Name\": \"Prashant Bhatta\",\n",
    "                \"Age\" : 18,\n",
    "                \"Height\" : 160,\n",
    "                \"Sex\" : \"Male\",\n",
    "                    \"user_id\" :2\n",
    "                } ,\n",
    "              \n",
    "              {\n",
    "                \"Name\": \"Prashant Bhatta\",\n",
    "                \"Age\" : 18,\n",
    "                \"Height\" : 160,\n",
    "                \"Sex\" : \"Male\",\n",
    "                    \"user_id\" :2\n",
    "                } \n",
    "              ]\n",
    "\n",
    "collection.insert_many(dictionary)"
   ]
  },
  {
   "cell_type": "code",
   "execution_count": null,
   "metadata": {},
   "outputs": [],
   "source": [
    "for coll in collection.find({\"Age\" : {\"$gt\" : 10 }}).sort(\"Name\"):\n",
    "    print(coll)"
   ]
  },
  {
   "cell_type": "code",
   "execution_count": null,
   "metadata": {},
   "outputs": [],
   "source": [
    "collection.count_documents({})"
   ]
  },
  {
   "cell_type": "markdown",
   "metadata": {},
   "source": [
    "<b>Indexing </b> <br>\n",
    "\n",
    "Adding indexes can help accelerate certain queries and can also add additional functionality to querying and storing documents. In this example, we’ll demonstrate how to create a unique index on a key that rejects documents whose value for that key already exists in the index."
   ]
  },
  {
   "cell_type": "code",
   "execution_count": null,
   "metadata": {},
   "outputs": [],
   "source": [
    "index = db.ind.create_index([('user_id' , pymongo.ASCENDING)], unique = True)"
   ]
  },
  {
   "cell_type": "code",
   "execution_count": null,
   "metadata": {},
   "outputs": [],
   "source": [
    "db.ind.insert_many(dictionary)"
   ]
  },
  {
   "cell_type": "code",
   "execution_count": null,
   "metadata": {},
   "outputs": [],
   "source": [
    "for c in db.ind.find():\n",
    "    print(c)"
   ]
  },
  {
   "cell_type": "code",
   "execution_count": null,
   "metadata": {},
   "outputs": [],
   "source": [
    "db.list_collection_names()\n",
    "{'_id': ObjectId('5cdc37b98d29b05be907cdc7'), 'Name': 'Suman shah', 'Age': 21, 'Sex': 'Male', 'Height': 170, 'user_id': 1}\n",
    "{'_id': ObjectId('5cdc37b98d29b05be907cdc8'), 'Name': 'Prashant Bhatta', 'Age': 18, 'Height': 160, 'Sex': 'Male', 'user_id': 2}\n",
    "db.list_collection_names()\n"
   ]
  },
  {
   "cell_type": "code",
   "execution_count": null,
   "metadata": {},
   "outputs": [],
   "source": [
    "collections = db['collection2']"
   ]
  },
  {
   "cell_type": "code",
   "execution_count": null,
   "metadata": {},
   "outputs": [],
   "source": [
    "for i in collections.find({'Date_of_measure' : { \" $elemMatch\" : {'Height' : 167}}}):\n",
    "    print(i)"
   ]
  },
  {
   "cell_type": "code",
   "execution_count": null,
   "metadata": {},
   "outputs": [],
   "source": []
  },
  {
   "cell_type": "code",
   "execution_count": null,
   "metadata": {},
   "outputs": [],
   "source": [
    "my_style_dictionary ={\n",
    "                        \"Name\" : \"Sangam Man Buddhacharya\",\n",
    "                        \"Age\" : 21,\n",
    "                        \"User_id\":\"073Bex438\",\n",
    "                        \"Date\":\"2076-07-21\",\n",
    "                        \"DOB\" : \"2054-05-21\",\n",
    "                        \"DOM\" : [{\n",
    "                                    \"Height\": 167,\n",
    "                                    \"weight\": 64,\n",
    "                                    \"Water\":54.6,\n",
    "                                    \"Fat\":14.5\n",
    "                                 }]\n",
    "                    \n",
    "}"
   ]
  },
  {
   "cell_type": "code",
   "execution_count": null,
   "metadata": {},
   "outputs": [],
   "source": [
    "collections.insert_one(my_style_dictionary)"
   ]
  },
  {
   "cell_type": "code",
   "execution_count": null,
   "metadata": {},
   "outputs": [],
   "source": [
    "db.Heart_beat.drop()"
   ]
  },
  {
   "cell_type": "code",
   "execution_count": null,
   "metadata": {},
   "outputs": [],
   "source": [
    "for i in collections.find({\"User_id\" : \"073Bex438\"}).sort(\"Date\"):\n",
    "    print(i)\n",
    "\n",
    "  \n",
    "    "
   ]
  },
  {
   "cell_type": "code",
   "execution_count": null,
   "metadata": {},
   "outputs": [],
   "source": [
    "dic = {\n",
    "    \n",
    "                        \"Name\" : \"Sashi Shrestha\",\n",
    "                        \"Age\" : 21,\n",
    "                        \"User_id\":\"073Bex437\",\n",
    "                        \"DOB\" : \"2054-05-21\",\n",
    "                        \"info\":[{ \"Date\": 75,\n",
    "                                  \"Height\": 167,\n",
    "                                  \"weight\": 64,\n",
    "                                  \"Water\":54.6,\n",
    "                                 \"Fat\":14.5},\n",
    "                                 \n",
    "                                {\"Date\": 75,\n",
    "                                  \"Height\": 167,\n",
    "                                  \"weight\": 64,\n",
    "                                  \"Water\":54.6,\n",
    "                                 \"Fat\":14.5} \n",
    "                                \n",
    "                            ]\n",
    "\n",
    "}"
   ]
  },
  {
   "cell_type": "code",
   "execution_count": null,
   "metadata": {},
   "outputs": [],
   "source": [
    "collections.insert_one(dic)"
   ]
  },
  {
   "cell_type": "code",
   "execution_count": null,
   "metadata": {},
   "outputs": [],
   "source": [
    "for i in collections.find({'User_id' : '073Bex437'} ,{'info' : {'$elemMatch' :{'Height' : 167,'Date': 74}}} ):\n",
    "    print(i)\n",
    "    \n",
    "    "
   ]
  },
  {
   "cell_type": "code",
   "execution_count": null,
   "metadata": {},
   "outputs": [],
   "source": [
    "dic ={\n",
    "    \"date\" : [{\"2075\" : 5 ,\"2074\" : 8}]\n",
    "}"
   ]
  },
  {
   "cell_type": "code",
   "execution_count": null,
   "metadata": {},
   "outputs": [],
   "source": [
    "collections.insert_one(dic)"
   ]
  },
  {
   "cell_type": "code",
   "execution_count": null,
   "metadata": {},
   "outputs": [],
   "source": [
    "c = collections.find({\"date.2075\" : 5})"
   ]
  },
  {
   "cell_type": "code",
   "execution_count": null,
   "metadata": {},
   "outputs": [],
   "source": [
    "for i in c:\n",
    "    print(i)"
   ]
  },
  {
   "cell_type": "code",
   "execution_count": null,
   "metadata": {},
   "outputs": [],
   "source": [
    "dic"
   ]
  },
  {
   "cell_type": "code",
   "execution_count": null,
   "metadata": {},
   "outputs": [],
   "source": [
    "dic"
   ]
  },
  {
   "cell_type": "code",
   "execution_count": null,
   "metadata": {},
   "outputs": [],
   "source": [
    "$push()"
   ]
  },
  {
   "cell_type": "code",
   "execution_count": null,
   "metadata": {},
   "outputs": [],
   "source": [
    "collections"
   ]
  },
  {
   "cell_type": "code",
   "execution_count": null,
   "metadata": {},
   "outputs": [],
   "source": []
  },
  {
   "cell_type": "code",
   "execution_count": null,
   "metadata": {},
   "outputs": [],
   "source": [
    "m  = [ c for c in collections.find( {\"$and\" :[{'Name' : 'Sashi Shresth'} ,{\"DOB\" : \"2054-05-21\"}] } )]\n",
    "print(m)"
   ]
  },
  {
   "cell_type": "code",
   "execution_count": null,
   "metadata": {},
   "outputs": [],
   "source": [
    "for i in collections.find({})"
   ]
  },
  {
   "cell_type": "code",
   "execution_count": null,
   "metadata": {},
   "outputs": [],
   "source": []
  },
  {
   "cell_type": "code",
   "execution_count": null,
   "metadata": {},
   "outputs": [],
   "source": []
  },
  {
   "cell_type": "code",
   "execution_count": 2,
   "metadata": {},
   "outputs": [],
   "source": [
    "data = Database()"
   ]
  },
  {
   "cell_type": "code",
   "execution_count": 3,
   "metadata": {},
   "outputs": [],
   "source": [
    "localhost = 27017\n",
    "database = \"Medicare_report\"\n",
    "collections = \"collection2\"\n",
    "data.initialize(localhost ,database, collections)"
   ]
  },
  {
   "cell_type": "code",
   "execution_count": null,
   "metadata": {},
   "outputs": [],
   "source": [
    "Name= 'Suamn Shah'\n",
    "Age= 21\n",
    "DOB='2054-05-11'\n",
    "\n",
    "data.Register(Name, DOB, Age)"
   ]
  },
  {
   "cell_type": "code",
   "execution_count": null,
   "metadata": {},
   "outputs": [],
   "source": [
    "c = [i for i in collections.find({\"$and\":[{ 'Name' : Name} ,{'Age' : Age} , {'DOB': DOB}]})]"
   ]
  },
  {
   "cell_type": "code",
   "execution_count": null,
   "metadata": {},
   "outputs": [],
   "source": [
    "print(c)"
   ]
  },
  {
   "cell_type": "code",
   "execution_count": 4,
   "metadata": {},
   "outputs": [
    {
     "name": "stdout",
     "output_type": "stream",
     "text": [
      "Name ====>Suamn Shah\n",
      "Age  ====>21\n",
      "DOB  ====>2054-05-11\n",
      "User_id =>3\n"
     ]
    }
   ],
   "source": [
    "data.Login(3)"
   ]
  },
  {
   "cell_type": "code",
   "execution_count": null,
   "metadata": {},
   "outputs": [],
   "source": [
    "print(c)"
   ]
  },
  {
   "cell_type": "code",
   "execution_count": null,
   "metadata": {},
   "outputs": [],
   "source": []
  }
 ],
 "metadata": {
  "kernelspec": {
   "display_name": "Python 3",
   "language": "python",
   "name": "python3"
  },
  "language_info": {
   "codemirror_mode": {
    "name": "ipython",
    "version": 3
   },
   "file_extension": ".py",
   "mimetype": "text/x-python",
   "name": "python",
   "nbconvert_exporter": "python",
   "pygments_lexer": "ipython3",
   "version": "3.6.7"
  }
 },
 "nbformat": 4,
 "nbformat_minor": 2
}
