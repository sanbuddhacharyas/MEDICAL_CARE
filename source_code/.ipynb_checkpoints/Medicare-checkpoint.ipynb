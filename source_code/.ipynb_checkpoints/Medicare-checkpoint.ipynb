{
 "cells": [
  {
   "cell_type": "code",
   "execution_count": 1,
   "metadata": {},
   "outputs": [],
   "source": [
    "import gatt\n",
    "import numpy as np\n",
    "import time\n",
    "import datetime\n"
   ]
  },
  {
   "cell_type": "code",
   "execution_count": 2,
   "metadata": {},
   "outputs": [],
   "source": [
    "def Write_Bytes(Age ,Height, Gender, c):\n",
    "    #Wait for respononse from server\n",
    "    time.sleep(0.8)\n",
    "    #Write bytes to initiate communication\n",
    "    magicBytes = [0xac, 0x02, 0xf7, 0x00, 0x00, 0x00, 0xcc, 0xc3]\n",
    "    c.write_value(magicBytes)\n",
    "    #Wait for Write bytes respones\n",
    "    time.sleep(1)\n",
    "    #write 2nd bytes to server\n",
    "    magicBytes = [0xac, 0x02, 0xfa, 0x00, 0x00, 0x00, 0xcc, 0xc6]\n",
    "    c.write_value(magicBytes)\n",
    "    \n",
    "    #wait for Write bytes respones\n",
    "    time.sleep(1)\n",
    "    #Calculate offset for error checking bits\n",
    "    Offset = Age + Height - 56\n",
    "    #Sending Age and height with offset to server\n",
    "    magicBytes = [0xac, 0x02, 0xfb, 0x01, Age, Height,  0xcc, Offset]\n",
    "    c.write_value(magicBytes)\n",
    "    \n",
    "    time.sleep(1)\n",
    "    #Calculate offset for Present date\n",
    "    now = datetime.datetime.now()\n",
    "    #Write present date to server(scale)\n",
    "    Offset = (now.year-1799) + now.month + now.day\n",
    "    magicBytes = [0xac, 0x02, 0xfd, (now.year - 2000), now.month, now.day, 0xcc, Offset]\n",
    "    c.write_value(magicBytes)\n",
    "    \n",
    "    time.sleep(1)\n",
    "    #Calculate offset for time\n",
    "    now = datetime.datetime.now()\n",
    "    Offset = now.hour + now.minute\n",
    "    magicBytes = [0xac, 0x02, 0xfc, now.hour, now.minute, 56, 0xcc, Offset]\n",
    "    c.write_value(magicBytes)\n",
    "    \n",
    "    time.sleep(1)\n",
    "    magicBytes = [0xac, 0x02, 0xfe, 0x06, 0x00, 0x00, 0xcc, 0xd0]\n",
    "    c.write_value(magicBytes)\n",
    "    \n",
    "    time.sleep(0.6)\n",
    "\n",
    "def body_composition(values):\n",
    "    #Weight of person shifting higher bit by 8bit position to left and or with lower bit to get 16bit value\n",
    "    \n",
    "    weight =  float(((values[0][12] << 8) | values[0][13]) / 10) #. kg\n",
    "    Fat = float (((values[0][18] << 8 ) | values[0][19])/ 10) #.% \n",
    "    Calorie = int((values[1][5] << 8) | values[1][6] ) #. kcal\n",
    "    bone_mass = float(((values[1][7] << 8 ) | values[1][8]) / 10 ) #. kg\n",
    "    water = float(((values[1][9] << 8) | values[1][10]) / 10) #.% body composition\n",
    "    MetabolicAge = int(values[1][11]) #In years\n",
    "\n",
    "    print (\"weight ===================>\" + str(weight) +\".Kg\")\n",
    "    print (\"Fat ======================>\" + str(Fat) + \".Kg\")\n",
    "    print (\"Calorie ==================>\" + str(Calorie) + \"Kcal\")\n",
    "    print (\"Bone_mass ================>\" + str(bone_mass) + \"Kg\")\n",
    "    print (\"MetabolicAge =============>\" + str(MetabolicAge) + \"years\")\n",
    "    \n",
    "    return {\"Weight\" : weight, \n",
    "            \"Fat\" : Fat, \n",
    "            \"Calorie\" : Calorie, \n",
    "            \"BoneMass\": bone_mass, \n",
    "            \"Water\" : water , \n",
    "            \"MetabolicAge\" : MetabolicAge }\n",
    "    \n",
    "    "
   ]
  },
  {
   "cell_type": "code",
   "execution_count": 6,
   "metadata": {},
   "outputs": [],
   "source": [
    "class AnyDevice(gatt.Device):\n",
    "    \n",
    "    def define_variables(self, Age, Weight, Gender, Write):\n",
    "        self.Age = Age\n",
    "        self.Weight = Weight\n",
    "        self.Gender = Gender\n",
    "        self.Write = Write\n",
    "        self.values = []\n",
    "        self.ReadStatus = False\n",
    "        self.Read = True\n",
    "        self.count = 0\n",
    "        #self.manager = manager\n",
    "        \n",
    "    def services_resolved(self):\n",
    "        super().services_resolved()\n",
    "        for s in self.services:\n",
    "            if s.uuid == '0000ffb0-0000-1000-8000-00805f9b34fb': #services 0016\n",
    "                for c in s.characteristics:\n",
    "                    if (c.uuid == '0000ffb1-0000-1000-8000-00805f9b34fb') and (self.Write == True): #char 0017\n",
    "                        Write_Bytes(self.Age, self.Weight, self.Gender, c)\n",
    "                        self.Write = False\n",
    "                        print(c)\n",
    "                        \n",
    "                        #c.enable_notifications()\n",
    "                    if c.uuid == '0000ffb2-0000-1000-8000-00805f9b34fb' and self.Read == True:\n",
    "                        c.read_value()\n",
    "                        c.enable_notifications()\n",
    "                        print(c)\n",
    "                        self.Read = False\n",
    "                    \n",
    "    def characteristic_value_updated(self, characteristic, value):\n",
    "        print(\"Firmware version:\", value)\n",
    "        \n",
    "        check = value[0] + value[1]       \n",
    "        if check == 0:\n",
    "            self.ReadStatus = True\n",
    "            \n",
    "        if len(value) == 20 and self.ReadStatus == True :\n",
    "            self.values.append(value)\n",
    "            self.count = 1 + self.count\n",
    "\n",
    "            if self.count == 2:\n",
    "                manager.stop()\n",
    "                self.count =0\n",
    "            \n",
    "            \n",
    "        \n",
    "        \n",
    "    \n",
    "        \n",
    "    \n",
    "    \n",
    "        "
   ]
  },
  {
   "cell_type": "code",
   "execution_count": 7,
   "metadata": {},
   "outputs": [
    {
     "name": "stdout",
     "output_type": "stream",
     "text": [
      "<gatt.gatt_linux.Characteristic object at 0x7f71f807ebe0>\n",
      "<gatt.gatt_linux.Characteristic object at 0x7f71f807e978>\n",
      "Firmware version: b'\\xac\\x02\\xf71\\x125\\xcc;'\n",
      "Firmware version: b'\\xac\\x02\\xfe\\t\\x00\\x00\\xcc\\xd3\\xac\\x02\\xfe\\x07\\x00\\x00\\xcc\\xd1'\n",
      "Firmware version: b'\\x00\\x00\\x00\\x00\\x00\\x00\\x00\\x00'\n",
      "Firmware version: b'\\xac\\x02\\xfe\\x00\\x00\\x00\\xcc\\xca'\n",
      "Firmware version: b'\\xac\\x02\\xfe\\x1c\\x00\\x00\\xcc\\xe6'\n",
      "Firmware version: b'\\xac\\x02\\xfe\\x07\\x00\\x00\\xcc\\xd1'\n",
      "Firmware version: b'\\xac\\x02\\xfe\\x06\\xfe\\x00\\xcc\\xce'\n",
      "Firmware version: b'\\xac\\x02\\x00\\x8d\\x00\\x00\\xce['\n",
      "Firmware version: b'\\xac\\x02\\x02s\\x00\\x00\\xceC'\n",
      "Firmware version: b'\\xac\\x02\\x02s\\x00\\x00\\xceC'\n",
      "Firmware version: b'\\xac\\x02\\x02s\\x00\\x00\\xceC'\n",
      "Firmware version: b'\\xac\\x02\\x02s\\x00\\x00\\xceC'\n",
      "Firmware version: b'\\xac\\x02\\x02s\\x00\\x00\\xceC'\n",
      "Firmware version: b'\\xac\\x02\\x02s\\x00\\x00\\xceC'\n",
      "Firmware version: b'\\xac\\x02\\x02s\\x00\\x00\\xceC'\n",
      "Firmware version: b'\\xac\\x02\\x02s\\x00\\x00\\xca?'\n",
      "Firmware version: b'\\xac\\x02\\x02s\\x00\\x00\\xca?'\n",
      "Firmware version: b'\\xac\\x02\\xfd\\x00\\x00\\x00\\xcb\\xc8'\n",
      "Firmware version: b'\\xac\\x02\\xfd\\x01\\x01\\xe8\\xcb\\xb2'\n",
      "Firmware version: b'\\xac\\x02\\xfe\\x0f\\x00\\x00\\xcc\\xd9'\n",
      "Firmware version: b'\\xac\\x02\\xfe\\x00\\x02s\\xcb>'\n",
      "Firmware version: b'\\xac\\x02\\xfe\\x01\\x00\\xe0\\xcb\\xaa'\n",
      "Firmware version: b'\\xac\\x02\\xfe\\x02\\x00\\xad\\xcbx'\n",
      "Firmware version: b'\\xac\\x02\\xfe\\x03\\x00\\x9b\\xcbg'\n",
      "Firmware version: b'\\xac\\x02\\xfe\\x04\\x00\\x05\\xcb\\xd2'\n",
      "Firmware version: b'\\xac\\x02\\xfe\\x05\\x01\\xeb\\xcb\\xba'\n",
      "Firmware version: b'\\xac\\x02\\xfe\\x06\\x05\\xd8\\xcb\\xac'\n",
      "Firmware version: b'\\xac\\x02\\xfe\\x07\\x00\\x1a\\xcb\\xea'\n",
      "Firmware version: b'\\xac\\x02\\xfe\\x08\\x022\\xcb\\x05'\n",
      "Firmware version: b'\\xac\\x02\\xfe\\t\\x00\\x10\\xcb\\xe2'\n",
      "Firmware version: b'\\xac\\x02\\xfe\\n\\x00\\xe0\\xcb\\xb3'\n",
      "Firmware version: b'\\xac\\x02\\xfe\\xfc\\x00\\x00\\xcb\\xc5'\n",
      "Firmware version: b'\\xac\\x02\\xfb\\x13\\x05\\x16\\xcb\\xf4'\n",
      "Firmware version: b'\\xac\\x02\\xfa\\x15*\\r\\xcb\\x11'\n",
      "Firmware version: b'\\xac\\x02\\xfe\\x10\\x00\\x00\\xcc\\xda'\n",
      "Firmware version: b'\\xac\\x02\\xff\\x00\\x02!\\x13\\x05\\x16\\x15*\\r\\x02s\\x00\\xe0\\x00\\xad\\x00\\x9b'\n",
      "Firmware version: b'\\x01\\x00\\x05\\x01\\xeb\\x05\\xd8\\x00\\x1a\\x022\\x10\\x00\\xe0\\x00\\x01\\x15\\xa7\\x01\\xe8'\n"
     ]
    }
   ],
   "source": [
    "manager = gatt.DeviceManager(adapter_name='hci0')\n",
    "device = AnyDevice(manager=manager, mac_address='03:b3:ec:9a:97:b9')\n",
    "device.define_variables(21,167 ,\"male\",True) # Age, Height , Gender\n",
    "device.connect()\n",
    "manager.run()\n",
    "body_composition(device.values)\n",
    "\n"
   ]
  },
  {
   "cell_type": "code",
   "execution_count": 8,
   "metadata": {},
   "outputs": [
    {
     "name": "stdout",
     "output_type": "stream",
     "text": [
      "weight ===================>62.7.Kg\n",
      "Fat ======================>15.5.Kg\n",
      "Calorie ==================>1496Kcal\n",
      "Bone_mass ================>2.6Kg\n",
      "MetabolicAge =============>16years\n"
     ]
    },
    {
     "data": {
      "text/plain": [
       "{'Weight': 62.7,\n",
       " 'Fat': 15.5,\n",
       " 'Calorie': 1496,\n",
       " 'BoneMass': 2.6,\n",
       " 'Water': 56.2,\n",
       " 'MetabolicAge': 16}"
      ]
     },
     "execution_count": 8,
     "metadata": {},
     "output_type": "execute_result"
    }
   ],
   "source": [
    "body_composition(device.values)"
   ]
  },
  {
   "cell_type": "code",
   "execution_count": null,
   "metadata": {},
   "outputs": [],
   "source": [
    "c = np.array([int(device.values[1][6])])\n",
    "print(c)\n",
    "# c = c.astype(float)\n",
    "# c = np.sum(c, axis =0)"
   ]
  },
  {
   "cell_type": "code",
   "execution_count": 32,
   "metadata": {},
   "outputs": [
    {
     "name": "stdout",
     "output_type": "stream",
     "text": [
      "['z', 'p', 'x', 'k', 'u', 'b', 'c', 'v', 'e', 'w', 'd', 'r', 'o', 'y', 'q', 'f', 's', 'n', 'a', 't', 'g', 'l', '\\n', 'm', 'h', 'j', 'i']\n"
     ]
    }
   ],
   "source": [
    "c = open('dinos.txt','r').read()\n",
    "c = c.lower()\n",
    "c = list(set(c))\n",
    "print(c)"
   ]
  },
  {
   "cell_type": "code",
   "execution_count": 33,
   "metadata": {},
   "outputs": [
    {
     "name": "stdout",
     "output_type": "stream",
     "text": [
      "[4, 7, 9, 11]\n"
     ]
    }
   ],
   "source": [
    "x = [1,3,4,5]\n",
    "y = [3,4,5,6]\n",
    "c = [x[i] + y [i] for i in range(len(x)) ]\n",
    "print(c)"
   ]
  },
  {
   "cell_type": "code",
   "execution_count": null,
   "metadata": {},
   "outputs": [],
   "source": []
  }
 ],
 "metadata": {
  "kernelspec": {
   "display_name": "Python 3",
   "language": "python",
   "name": "python3"
  },
  "language_info": {
   "codemirror_mode": {
    "name": "ipython",
    "version": 3
   },
   "file_extension": ".py",
   "mimetype": "text/x-python",
   "name": "python",
   "nbconvert_exporter": "python",
   "pygments_lexer": "ipython3",
   "version": "3.6.7"
  }
 },
 "nbformat": 4,
 "nbformat_minor": 2
}
