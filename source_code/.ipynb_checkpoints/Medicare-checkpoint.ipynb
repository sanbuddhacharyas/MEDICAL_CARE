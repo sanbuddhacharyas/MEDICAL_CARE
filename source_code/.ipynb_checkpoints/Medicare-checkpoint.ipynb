{
 "cells": [
  {
   "cell_type": "code",
   "execution_count": 1,
   "metadata": {},
   "outputs": [],
   "source": [
    "import gatt\n",
    "import numpy as np\n",
    "import time\n",
    "import datetime\n"
   ]
  },
  {
   "cell_type": "code",
   "execution_count": 2,
   "metadata": {},
   "outputs": [],
   "source": [
    "def Write_Bytes(Age ,Height, Gender, c):\n",
    "    #Wait for respononse from server\n",
    "    time.sleep(0.8)\n",
    "    #Write bytes to initiate communication\n",
    "    magicBytes = [0xac, 0x02, 0xf7, 0x00, 0x00, 0x00, 0xcc, 0xc3]\n",
    "    c.write_value(magicBytes)\n",
    "    #Wait for Write bytes respones\n",
    "    time.sleep(1)\n",
    "    #write 2nd bytes to server\n",
    "    magicBytes = [0xac, 0x02, 0xfa, 0x00, 0x00, 0x00, 0xcc, 0xc6]\n",
    "    c.write_value(magicBytes)\n",
    "    \n",
    "    #wait for Write bytes respones\n",
    "    time.sleep(1)\n",
    "    #Calculate offset for error checking bits\n",
    "    Offset = Age + Height - 56\n",
    "    #Sending Age and height with offset to server\n",
    "    magicBytes = [0xac, 0x02, 0xfb, 0x01, Age, Height,  0xcc, Offset]\n",
    "    c.write_value(magicBytes)\n",
    "    \n",
    "    time.sleep(1)\n",
    "    #Calculate offset for Present date\n",
    "    now = datetime.datetime.now()\n",
    "    #Write present date to server(scale)\n",
    "    Offset = (now.year-1799) + now.month + now.day\n",
    "    magicBytes = [0xac, 0x02, 0xfd, (now.year - 2000), now.month, now.day, 0xcc, Offset]\n",
    "    c.write_value(magicBytes)\n",
    "    \n",
    "    time.sleep(1)\n",
    "    #Calculate offset for time\n",
    "    now = datetime.datetime.now()\n",
    "    Offset = now.hour + now.minute\n",
    "    magicBytes = [0xac, 0x02, 0xfc, now.hour, now.minute, 56, 0xcc, Offset]\n",
    "    c.write_value(magicBytes)\n",
    "    \n",
    "    time.sleep(1)\n",
    "    magicBytes = [0xac, 0x02, 0xfe, 0x06, 0x00, 0x00, 0xcc, 0xd0]\n",
    "    c.write_value(magicBytes)\n",
    "    \n",
    "    time.sleep(0.6)\n",
    "\n",
    "def body_composition(values):\n",
    "    #Weight of person shifting higher bit by 8bit position to left and or with lower bit to get 16bit value\n",
    "    \n",
    "    weight =  float(((values[0][12] << 8) | values[0][13]) / 10) #. kg\n",
    "    Fat = float (((values[0][18] << 8 ) | values[0][19])/ 10) #.% \n",
    "    Calorie = int((values[1][5] << 8) | values[1][6] ) #. kcal\n",
    "    bone_mass = float(((values[1][7] << 8 ) | values[1][8]) / 10 ) #. kg\n",
    "    water = float(((values[1][9] << 8) | values[1][10]) / 10) #.% body composition\n",
    "    MetabolicAge = int(values[1][11]) #In years\n",
    "\n",
    "    print (\"weight ===================>\" + str(weight) +\".Kg\")\n",
    "    print (\"Fat ======================>\" + str(Fat) + \".Kg\")\n",
    "    print (\"Calorie ==================>\" + str(Calorie) + \"Kcal\")\n",
    "    print (\"Bone_mass ================>\" + str(bone_mass) + \"Kg\")\n",
    "    print (\"MetabolicAge =============>\" + str(MetabolicAge) + \"years\")\n",
    "    \n",
    "    return {\"Weight\" : weight, \n",
    "            \"Fat\" : Fat, \n",
    "            \"Calorie\" : Calorie, \n",
    "            \"BoneMass\": bone_mass, \n",
    "            \"Water\" : water , \n",
    "            \"MetabolicAge\" : MetabolicAge }\n",
    "    \n",
    "    "
   ]
  },
  {
   "cell_type": "code",
   "execution_count": 3,
   "metadata": {},
   "outputs": [],
   "source": [
    "class AnyDevice(gatt.Device):\n",
    "    \n",
    "    def define_variables(self, Age, Weight, Gender, Write):\n",
    "        self.Age = Age\n",
    "        self.Weight = Weight\n",
    "        self.Gender = Gender\n",
    "        self.Write = Write\n",
    "        self.values = []\n",
    "        self.ReadStatus = False\n",
    "        self.Read = True\n",
    "        self.count = 0\n",
    "        \n",
    "    def services_resolved(self):\n",
    "        super().services_resolved()\n",
    "        for s in self.services:\n",
    "            if s.uuid == '0000ffb0-0000-1000-8000-00805f9b34fb': #services 0016\n",
    "                for c in s.characteristics:\n",
    "                    if (c.uuid == '0000ffb1-0000-1000-8000-00805f9b34fb') and (self.Write == True): #char 0017\n",
    "                        Write_Bytes(self.Age, self.Weight, self.Gender, c)\n",
    "                        self.Write = False\n",
    "                        print(c)\n",
    "                        \n",
    "                        #c.enable_notifications()\n",
    "                    if c.uuid == '0000ffb2-0000-1000-8000-00805f9b34fb' and self.Read == True:\n",
    "                        c.read_value()\n",
    "                        c.enable_notifications()\n",
    "                        print(c)\n",
    "                        self.Read = False\n",
    "                    \n",
    "    def characteristic_value_updated(self, characteristic, value):\n",
    "        print(\"Firmware version:\", value)\n",
    "        \n",
    "        check = value[0] + value[1]       \n",
    "        if check == 0:\n",
    "            self.ReadStatus = True\n",
    "            \n",
    "        if len(value) == 20 and self.ReadStatus == True :\n",
    "            self.values.append(value)\n",
    "            self.count = self.count + 1\n",
    "        \n",
    "        if self.count == 2:\n",
    "            body_composition(device.values)\n",
    "            \n",
    "            \n",
    "        \n",
    "    \n",
    "    \n",
    "        "
   ]
  },
  {
   "cell_type": "code",
   "execution_count": 4,
   "metadata": {},
   "outputs": [
    {
     "name": "stdout",
     "output_type": "stream",
     "text": [
      "<gatt.gatt_linux.Characteristic object at 0x7f862cd2c748>\n",
      "<gatt.gatt_linux.Characteristic object at 0x7f863cbd42b0>\n",
      "Firmware version: b'\\xac\\x02\\xf71\\x125\\xcc;\\xac\\x02\\xfe\\t\\x00\\x00\\xcc\\xd3\\xac\\x02\\xfe\\x07'\n",
      "Firmware version: b'\\x00\\x00\\xcc\\xd1'\n",
      "Firmware version: b'\\x00\\x00\\x00\\x00\\x00\\x00\\x00\\x00'\n",
      "Firmware version: b'\\xac\\x02\\xfe\\x00\\x00\\x00\\xcc\\xca'\n",
      "Firmware version: b'\\xac\\x02\\xfe\\x1c\\x00\\x00\\xcc\\xe6'\n",
      "Firmware version: b'\\xac\\x02\\xfe\\x07\\x00\\x00\\xcc\\xd1'\n",
      "Firmware version: b'\\xac\\x02\\xfe\\x06\\xfe\\x00\\xcc\\xce'\n",
      "Firmware version: b'\\xac\\x02\\x02\\x13\\x00\\x00\\xce\\xe3'\n",
      "Firmware version: b'\\xac\\x02\\x02u\\x00\\x00\\xceE'\n",
      "Firmware version: b'\\xac\\x02\\x02\\x90\\x00\\x00\\xce`'\n",
      "Firmware version: b'\\xac\\x02\\x02\\x90\\x00\\x00\\xce`'\n",
      "Firmware version: b'\\xac\\x02\\x02\\x8c\\x00\\x00\\xce\\\\'\n",
      "Firmware version: b'\\xac\\x02\\x02\\x8a\\x00\\x00\\xceZ'\n",
      "Firmware version: b'\\xac\\x02\\x02\\x8a\\x00\\x00\\xceZ'\n",
      "Firmware version: b'\\xac\\x02\\x02\\x8c\\x00\\x00\\xce\\\\'\n",
      "Firmware version: b'\\xac\\x02\\x02\\x8c\\x00\\x00\\xce\\\\'\n",
      "Firmware version: b'\\xac\\x02\\x02\\x8c\\x00\\x00\\xce\\\\'\n",
      "Firmware version: b'\\xac\\x02\\x02\\x8e\\x00\\x00\\xce^'\n",
      "Firmware version: b'\\xac\\x02\\x02\\x8e\\x00\\x00\\xce^'\n",
      "Firmware version: b'\\xac\\x02\\x02\\x8d\\x00\\x00\\xce]'\n",
      "Firmware version: b'\\xac\\x02\\x02\\x8d\\x00\\x00\\xce]'\n",
      "Firmware version: b'\\xac\\x02\\x02\\x8d\\x00\\x00\\xcaY'\n",
      "Firmware version: b'\\xac\\x02\\x02\\x8d\\x00\\x00\\xcaY'\n",
      "Firmware version: b'\\xac\\x02\\xfd\\x00\\x00\\x00\\xcb\\xc8'\n",
      "Firmware version: b'\\xac\\x02\\xfd\\x01\\x01\\xd3\\xcb\\x9d'\n",
      "Firmware version: b'\\xac\\x02\\xfe\\x0f\\x00\\x00\\xcc\\xd9'\n",
      "Firmware version: b'\\xac\\x02\\xfe\\x00\\x02\\x8d\\xcbX'\n",
      "Firmware version: b'\\xac\\x02\\xfe\\x01\\x00\\xe1\\xcb\\xab'\n",
      "Firmware version: b'\\xac\\x02\\xfe\\x02\\x00\\xa4\\xcbo'\n",
      "Firmware version: b'\\xac\\x02\\xfe\\x03\\x00\\x93\\xcb_'\n",
      "Firmware version: b'\\xac\\x02\\xfe\\x04\\x00\\x05\\xcb\\xd2'\n",
      "Firmware version: b'\\xac\\x02\\xfe\\x05\\x02\\x05\\xcb\\xd5'\n",
      "Firmware version: b'\\xac\\x02\\xfe\\x06\\x06-\\xcb\\x02'\n",
      "Firmware version: b'\\xac\\x02\\xfe\\x07\\x00\\x1c\\xcb\\xec'\n",
      "Firmware version: b'\\xac\\x02\\xfe\\x08\\x029\\xcb\\x0c'\n",
      "Firmware version: b'\\xac\\x02\\xfe\\t\\x00\\x10\\xcb\\xe2'\n",
      "Firmware version: b'\\xac\\x02\\xfe\\n\\x00\\xe1\\xcb\\xb4'\n",
      "Firmware version: b'\\xac\\x02\\xfe\\xfc\\x00\\x00\\xcb\\xc5'\n",
      "Firmware version: b'\\xac\\x02\\xfb\\x13\\x05\\r\\xcb\\xeb'\n",
      "Firmware version: b'\\xac\\x02\\xfa\\r(\\x1a\\xcb\\x14'\n",
      "Firmware version: b'\\xac\\x02\\xfe\\x10\\x00\\x00\\xcc\\xda'\n",
      "Firmware version: b'\\xac\\x02\\xff\\x00\\x02!\\x13\\x05\\r\\r(\\x1a\\x02\\x8d\\x00\\xe1\\x00\\xa4\\x00\\x93'\n",
      "Firmware version: b'\\x01\\x00\\x05\\x02\\x05\\x06-\\x00\\x1c\\x029\\x10\\x00\\xe1\\x00\\x01\\x14\\xaa\\x01\\xd3'\n"
     ]
    },
    {
     "ename": "KeyboardInterrupt",
     "evalue": "",
     "output_type": "error",
     "traceback": [
      "\u001b[0;31m---------------------------------------------------------------------------\u001b[0m",
      "\u001b[0;31mKeyboardInterrupt\u001b[0m                         Traceback (most recent call last)",
      "\u001b[0;32m<ipython-input-4-928dfdaa03bf>\u001b[0m in \u001b[0;36m<module>\u001b[0;34m\u001b[0m\n\u001b[1;32m      3\u001b[0m \u001b[0mdevice\u001b[0m\u001b[0;34m.\u001b[0m\u001b[0mdefine_variables\u001b[0m\u001b[0;34m(\u001b[0m\u001b[0;36m20\u001b[0m\u001b[0;34m,\u001b[0m\u001b[0;36m170\u001b[0m \u001b[0;34m,\u001b[0m\u001b[0;34m\"male\"\u001b[0m\u001b[0;34m,\u001b[0m\u001b[0;32mTrue\u001b[0m\u001b[0;34m)\u001b[0m \u001b[0;31m# Age, Height , Gender\u001b[0m\u001b[0;34m\u001b[0m\u001b[0;34m\u001b[0m\u001b[0m\n\u001b[1;32m      4\u001b[0m \u001b[0mdevice\u001b[0m\u001b[0;34m.\u001b[0m\u001b[0mconnect\u001b[0m\u001b[0;34m(\u001b[0m\u001b[0;34m)\u001b[0m\u001b[0;34m\u001b[0m\u001b[0;34m\u001b[0m\u001b[0m\n\u001b[0;32m----> 5\u001b[0;31m \u001b[0mmanager\u001b[0m\u001b[0;34m.\u001b[0m\u001b[0mrun\u001b[0m\u001b[0;34m(\u001b[0m\u001b[0;34m)\u001b[0m\u001b[0;34m\u001b[0m\u001b[0;34m\u001b[0m\u001b[0m\n\u001b[0m\u001b[1;32m      6\u001b[0m \u001b[0mbody_composition\u001b[0m\u001b[0;34m(\u001b[0m\u001b[0mdevice\u001b[0m\u001b[0;34m.\u001b[0m\u001b[0mvalues\u001b[0m\u001b[0;34m)\u001b[0m\u001b[0;34m\u001b[0m\u001b[0;34m\u001b[0m\u001b[0m\n",
      "\u001b[0;32m/usr/local/lib/python3.6/dist-packages/gatt/gatt_linux.py\u001b[0m in \u001b[0;36mrun\u001b[0;34m(self)\u001b[0m\n\u001b[1;32m     89\u001b[0m         \u001b[0mself\u001b[0m\u001b[0;34m.\u001b[0m\u001b[0m_main_loop\u001b[0m \u001b[0;34m=\u001b[0m \u001b[0mGObject\u001b[0m\u001b[0;34m.\u001b[0m\u001b[0mMainLoop\u001b[0m\u001b[0;34m(\u001b[0m\u001b[0;34m)\u001b[0m\u001b[0;34m\u001b[0m\u001b[0;34m\u001b[0m\u001b[0m\n\u001b[1;32m     90\u001b[0m         \u001b[0;32mtry\u001b[0m\u001b[0;34m:\u001b[0m\u001b[0;34m\u001b[0m\u001b[0;34m\u001b[0m\u001b[0m\n\u001b[0;32m---> 91\u001b[0;31m             \u001b[0mself\u001b[0m\u001b[0;34m.\u001b[0m\u001b[0m_main_loop\u001b[0m\u001b[0;34m.\u001b[0m\u001b[0mrun\u001b[0m\u001b[0;34m(\u001b[0m\u001b[0;34m)\u001b[0m\u001b[0;34m\u001b[0m\u001b[0;34m\u001b[0m\u001b[0m\n\u001b[0m\u001b[1;32m     92\u001b[0m             \u001b[0mdisconnect_signals\u001b[0m\u001b[0;34m(\u001b[0m\u001b[0;34m)\u001b[0m\u001b[0;34m\u001b[0m\u001b[0;34m\u001b[0m\u001b[0m\n\u001b[1;32m     93\u001b[0m         \u001b[0;32mexcept\u001b[0m \u001b[0mException\u001b[0m\u001b[0;34m:\u001b[0m\u001b[0;34m\u001b[0m\u001b[0;34m\u001b[0m\u001b[0m\n",
      "\u001b[0;32m/usr/lib/python3/dist-packages/gi/overrides/GLib.py\u001b[0m in \u001b[0;36mrun\u001b[0;34m(self)\u001b[0m\n\u001b[1;32m    586\u001b[0m         \u001b[0;32mif\u001b[0m \u001b[0mhasattr\u001b[0m\u001b[0;34m(\u001b[0m\u001b[0mself\u001b[0m\u001b[0;34m,\u001b[0m \u001b[0;34m'_quit_by_sigint'\u001b[0m\u001b[0;34m)\u001b[0m\u001b[0;34m:\u001b[0m\u001b[0;34m\u001b[0m\u001b[0;34m\u001b[0m\u001b[0m\n\u001b[1;32m    587\u001b[0m             \u001b[0;31m# caught by _main_loop_sigint_handler()\u001b[0m\u001b[0;34m\u001b[0m\u001b[0;34m\u001b[0m\u001b[0;34m\u001b[0m\u001b[0m\n\u001b[0;32m--> 588\u001b[0;31m             \u001b[0;32mraise\u001b[0m \u001b[0mKeyboardInterrupt\u001b[0m\u001b[0;34m\u001b[0m\u001b[0;34m\u001b[0m\u001b[0m\n\u001b[0m\u001b[1;32m    589\u001b[0m \u001b[0;34m\u001b[0m\u001b[0m\n\u001b[1;32m    590\u001b[0m \u001b[0;34m\u001b[0m\u001b[0m\n",
      "\u001b[0;31mKeyboardInterrupt\u001b[0m: "
     ]
    }
   ],
   "source": [
    "manager = gatt.DeviceManager(adapter_name='hci0')\n",
    "device = AnyDevice(manager=manager, mac_address='03:b3:ec:9a:97:b9')\n",
    "device.define_variables(20,170 ,\"male\",True) # Age, Height , Gender\n",
    "device.connect()\n",
    "manager.run()\n",
    "\n"
   ]
  },
  {
   "cell_type": "code",
   "execution_count": 5,
   "metadata": {},
   "outputs": [
    {
     "name": "stdout",
     "output_type": "stream",
     "text": [
      "weight ===================>65.3.Kg\n",
      "Fat ======================>14.7.Kg\n",
      "Calorie ==================>1581Kcal\n",
      "Bone_mass ================>2.8Kg\n",
      "MetabolicAge =============>16years\n"
     ]
    },
    {
     "data": {
      "text/plain": [
       "{'Weight': 65.3,\n",
       " 'Fat': 14.7,\n",
       " 'Calorie': 1581,\n",
       " 'BoneMass': 2.8,\n",
       " 'Water': 56.9,\n",
       " 'MetabolicAge': 16}"
      ]
     },
     "execution_count": 5,
     "metadata": {},
     "output_type": "execute_result"
    }
   ],
   "source": [
    "body_composition(device.values)"
   ]
  },
  {
   "cell_type": "code",
   "execution_count": null,
   "metadata": {},
   "outputs": [],
   "source": [
    "c = np.array([int(device.values[1][6])])\n",
    "print(c)\n",
    "# c = c.astype(float)\n",
    "# c = np.sum(c, axis =0)"
   ]
  },
  {
   "cell_type": "code",
   "execution_count": null,
   "metadata": {},
   "outputs": [],
   "source": [
    "print(6<<3)"
   ]
  },
  {
   "cell_type": "code",
   "execution_count": null,
   "metadata": {},
   "outputs": [],
   "source": []
  },
  {
   "cell_type": "code",
   "execution_count": null,
   "metadata": {},
   "outputs": [],
   "source": []
  }
 ],
 "metadata": {
  "kernelspec": {
   "display_name": "Python 3",
   "language": "python",
   "name": "python3"
  },
  "language_info": {
   "codemirror_mode": {
    "name": "ipython",
    "version": 3
   },
   "file_extension": ".py",
   "mimetype": "text/x-python",
   "name": "python",
   "nbconvert_exporter": "python",
   "pygments_lexer": "ipython3",
   "version": "3.6.7"
  }
 },
 "nbformat": 4,
 "nbformat_minor": 2
}
