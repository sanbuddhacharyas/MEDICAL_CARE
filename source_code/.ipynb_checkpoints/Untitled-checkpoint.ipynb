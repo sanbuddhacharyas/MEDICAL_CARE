{
 "cells": [
  {
   "cell_type": "code",
   "execution_count": 15,
   "metadata": {},
   "outputs": [],
   "source": [
    "import gatt\n",
    "import numpy as np\n",
    "import time\n",
    "from datetime import datetime\n"
   ]
  },
  {
   "cell_type": "code",
   "execution_count": null,
   "metadata": {},
   "outputs": [],
   "source": [
    "class AnyDeviceManager(gatt.DeviceManager):\n",
    "    def device_discovered(self, device):\n",
    "        print(\"Discovered [%s] %s\" % (device.mac_address, device.alias()))\n"
   ]
  },
  {
   "cell_type": "code",
   "execution_count": null,
   "metadata": {},
   "outputs": [],
   "source": [
    "manager = AnyDeviceManager(adapter_name='hci0')\n",
    "manager.start_discovery()\n",
    "manager.run()"
   ]
  },
  {
   "cell_type": "code",
   "execution_count": null,
   "metadata": {},
   "outputs": [],
   "source": [
    "class AnyDevice(gatt.Device):\n",
    "    def connect_succeeded(self):\n",
    "        super().connect_succeeded()\n",
    "        print(\"[%s] Connected\" % (self.mac_address))\n",
    "\n",
    "    def connect_failed(self, error):\n",
    "        super().connect_failed(error)\n",
    "        print(\"[%s] Connection failed: %s\" % (self.mac_address, str(error)))\n",
    "\n",
    "    def disconnect_succeeded(self):\n",
    "        super().disconnect_succeeded()\n",
    "        print(\"[%s] Disconnected\" % (self.mac_address))\n",
    "\n",
    "    def services_resolved(self):\n",
    "        super().services_resolved()\n",
    "\n",
    "        print(\"[%s] Resolved services\" % (self.mac_address))\n",
    "        for service in self.services:\n",
    "            print(\"[%s]\\tService [%s]\" % (self.mac_address, service.uuid))\n",
    "            for characteristic in service.characteristics:\n",
    "                print(\"[%s]\\t\\tCharacteristic [%s]\" % (self.mac_address, characteristic.uuid))\n",
    "#                 for descriptor in characteristic.descriptors:\n",
    "#                     print(\"[%s]\\t\\t\\tDescriptor [%s] (%s)\" % (self.mac_address, descriptor.uuid, descriptor.read_value()))\n",
    "\n",
    "   "
   ]
  },
  {
   "cell_type": "code",
   "execution_count": null,
   "metadata": {},
   "outputs": [],
   "source": [
    "# arg_parser = ArgumentParser(description=\"GATT Connect Demo\")\n",
    "# arg_parser.add_argument('03:b3:ec:9a:97:b9', help=\"MAC address of device to connect\")\n",
    "# args = arg_parser.parse_args()\n",
    "\n",
    "print(\"Connecting...\")\n",
    "\n",
    "manager = gatt.DeviceManager(adapter_name='hci0')\n",
    "\n",
    "device = AnyDevice(manager=manager, mac_address='03:b3:ec:9a:97:b9')\n",
    "device.connect()\n",
    "\n",
    "manager.run()"
   ]
  },
  {
   "cell_type": "code",
   "execution_count": 9,
   "metadata": {},
   "outputs": [],
   "source": [
    "class AnyDevice(gatt.Device):\n",
    "    def services_resolved(self):\n",
    "        super().services_resolved()\n",
    "\n",
    "        device_information_service = next(\n",
    "            s for s in self.services\n",
    "            if s.uuid == '00001801-0000-1000-8000-00805f9b34fb')\n",
    "\n",
    "        firmware_version_characteristic = next(\n",
    "            c for c in device_information_service.characteristics\n",
    "            if c.uuid == '00002a05-0000-1000-8000-00805f9b34fb')\n",
    "\n",
    "        firmware_version_characteristic.read_value()\n",
    "\n",
    "    def characteristic_value_updated(self, characteristic, value):\n",
    "        print(\"Firmware version:\", value.decode(\"utf-8\"))"
   ]
  },
  {
   "cell_type": "code",
   "execution_count": null,
   "metadata": {},
   "outputs": [],
   "source": [
    "device = AnyDevice(mac_address='03:b3:ec:9a:97:b9', manager=manager)\n",
    "device.connect()\n",
    "manager.run()"
   ]
  },
  {
   "cell_type": "code",
   "execution_count": 15,
   "metadata": {},
   "outputs": [],
   "source": [
    "def Write_Bytes(Age ,Height, Gender, c):\n",
    "    #Wait for respononse from server\n",
    "    time.sleep(0.8)\n",
    "    #Write bytes to initiate communication\n",
    "    magicBytes = [0xac, 0x02, 0xf7, 0x00, 0x00, 0x00, 0xcc, 0xc3]\n",
    "    c.write_value(magicBytes)\n",
    "    #Wait for Write bytes respones\n",
    "    time.sleep(1)\n",
    "    #write 2nd bytes to server\n",
    "    magicBytes = [0xac, 0x02, 0xfa, 0x00, 0x00, 0x00, 0xcc, 0xc6]\n",
    "    c.write_value(magicBytes)\n",
    "    \n",
    "    #wait for Write bytes respones\n",
    "    time.sleep(1)\n",
    "    #Calculate offset for error checking bits\n",
    "    Offset = Age + Height - 56\n",
    "    #Sending Age and height with offset to server\n",
    "    magicBytes = [0xac, 0x02, 0xfb, 0x01, Age, Height,  0xcc, Offset]\n",
    "    c.write_value(magicBytes)\n",
    "    \n",
    "    time.sleep(1)\n",
    "    #Calculate offset for Present date\n",
    "    now = datetime.datetime.now()\n",
    "    #Write present date to server(scale)\n",
    "    Offset = (now.year-1799) + now.month + now.day\n",
    "    magicBytes = [0xac, 0x02, 0xfd, (now.year - 2000), now.month, now.day, 0xcc, Offset]\n",
    "    c.write_value(magicBytes)\n",
    "    \n",
    "    time.sleep(1)\n",
    "    #Calculate offset for time\n",
    "    now = datetime.datetime.now()\n",
    "    Offset = now.hour + now.minute\n",
    "    magicBytes = [0xac, 0x02, 0xfc, now.hour, now.minute, 56, 0xcc, Offset]\n",
    "    c.write_value(magicBytes)\n",
    "    \n",
    "    time.sleep(1)\n",
    "    magicBytes = [0xac, 0x02, 0xfe, 0x06, 0x00, 0x00, 0xcc, 0xd0]\n",
    "    c.write_value(magicBytes)\n",
    "    \n",
    "    time.sleep(0.6)"
   ]
  },
  {
   "cell_type": "code",
   "execution_count": 16,
   "metadata": {},
   "outputs": [],
   "source": [
    "class AnyDevice(gatt.Device):\n",
    "    \n",
    "    def define_variables(self, Age, Weight, Gender, Write):\n",
    "        self.Age = Age\n",
    "        self.Weight = Weight\n",
    "        self.Gender = Gender\n",
    "        self.Write = Write\n",
    "        self.values = []\n",
    "    \n",
    "    def services_resolved(self):\n",
    "        super().services_resolved()\n",
    "        for s in self.services:\n",
    "            if s.uuid == '0000ffb0-0000-1000-8000-00805f9b34fb': #services 0016\n",
    "                for c in s.characteristics:\n",
    "                    if (c.uuid == '0000ffb1-0000-1000-8000-00805f9b34fb') and (self.Write == True): #char 0017\n",
    "                        Write_Bytes(self.Age, self.Weight, self.Gender, c)\n",
    "                        self.Write = False\n",
    "                        print(c)\n",
    "                        \n",
    "                        #c.enable_notifications()\n",
    "                    if c.uuid == '0000ffb2-0000-1000-8000-00805f9b34fb':\n",
    "                        c.read_value()\n",
    "                        c.enable_notifications()\n",
    "                        print(c)\n",
    "                    \n",
    "    def characteristic_value_updated(self, characteristic, value):\n",
    "        print(\"Firmware version:\", value)  \n",
    "        if value.size == 32:\n",
    "            self.values.insert(value)\n",
    "            \n",
    "        "
   ]
  },
  {
   "cell_type": "code",
   "execution_count": null,
   "metadata": {},
   "outputs": [],
   "source": [
    "magicBytes = {bytes (0xa5 ),bytes( 0x01),bytes(0x2c), bytes(0xab), bytes(0x50), bytes(0x5a),bytes(0x29)}\n",
    "m = \"0xac\\0x02\\0xfd\\0x13\\0x05\\0x09\\0xcc\\0xea\"\n",
    "print(magicBytes)"
   ]
  },
  {
   "cell_type": "code",
   "execution_count": null,
   "metadata": {},
   "outputs": [],
   "source": [
    "manager = gatt.DeviceManager(adapter_name='hci0')\n",
    "device = AnyDevice(manager=manager, mac_address='03:b3:ec:9a:97:b9')\n",
    "device.define_variables(5, 170,\"male\",True)\n",
    "print(device.Age)\n",
    "print(device.Weight)\n",
    "device.connect()\n",
    "manager.run()"
   ]
  },
  {
   "cell_type": "code",
   "execution_count": null,
   "metadata": {},
   "outputs": [],
   "source": [
    "adapter = pygatt.GATTToolBackend()"
   ]
  },
  {
   "cell_type": "code",
   "execution_count": null,
   "metadata": {},
   "outputs": [],
   "source": [
    "try:\n",
    "    adapter.start()\n",
    "    device = adapter.connect('03:b3:ec:9a:97:b9')\n",
    "    value = device.char_read(\"00002a05-0000-1000-8000-00805f9b34fb\")\n",
    "    print(value)\n",
    "finally:\n",
    "    adapter.stop()"
   ]
  },
  {
   "cell_type": "code",
   "execution_count": 6,
   "metadata": {},
   "outputs": [
    {
     "name": "stdout",
     "output_type": "stream",
     "text": [
      "2\n"
     ]
    }
   ],
   "source": [
    "magicBytes = [0xac, 0x02, 0xf7, 0x00, 0x00, 0x00, 0xcc, 0xc3]\n",
    "print(magicBytes[1])"
   ]
  },
  {
   "cell_type": "code",
   "execution_count": null,
   "metadata": {},
   "outputs": [],
   "source": [
    "import subprocess\n"
   ]
  },
  {
   "cell_type": "code",
   "execution_count": null,
   "metadata": {},
   "outputs": [],
   "source": [
    "cmd = 'sudo bluetoothctl'\n",
    "returned_value = subprocess.check_output(cmd)  # returns the exit code in unix\n",
    "print('returned value:', returned_value.decode('utf-8'))"
   ]
  },
  {
   "cell_type": "code",
   "execution_count": 7,
   "metadata": {},
   "outputs": [
    {
     "name": "stdout",
     "output_type": "stream",
     "text": [
      "5\n"
     ]
    }
   ],
   "source": [
    "now = datetime.datetime.now()\n",
    "print(now.month)"
   ]
  },
  {
   "cell_type": "code",
   "execution_count": 13,
   "metadata": {},
   "outputs": [],
   "source": [
    "def days_between(d1, d2):\n",
    "    d1 = datetime.strptime(d1, \"%Y-%m-%d\")\n",
    "    d2 = datetime.strptime(d2, \"%Y-%m-%d\")\n",
    "    return abs((d2 - d1).days)"
   ]
  },
  {
   "cell_type": "code",
   "execution_count": 14,
   "metadata": {},
   "outputs": [
    {
     "ename": "NameError",
     "evalue": "name 'datetime' is not defined",
     "output_type": "error",
     "traceback": [
      "\u001b[0;31m---------------------------------------------------------------------------\u001b[0m",
      "\u001b[0;31mNameError\u001b[0m                                 Traceback (most recent call last)",
      "\u001b[0;32m<ipython-input-14-3734e56bd598>\u001b[0m in \u001b[0;36m<module>\u001b[0;34m\u001b[0m\n\u001b[0;32m----> 1\u001b[0;31m \u001b[0mdays_between\u001b[0m\u001b[0;34m(\u001b[0m\u001b[0;34m\"2075-4-20\"\u001b[0m \u001b[0;34m,\u001b[0m \u001b[0;34m\"2074-4-21\"\u001b[0m\u001b[0;34m)\u001b[0m\u001b[0;34m\u001b[0m\u001b[0;34m\u001b[0m\u001b[0m\n\u001b[0m",
      "\u001b[0;32m<ipython-input-13-e1db95dc0442>\u001b[0m in \u001b[0;36mdays_between\u001b[0;34m(d1, d2)\u001b[0m\n\u001b[1;32m      1\u001b[0m \u001b[0;32mdef\u001b[0m \u001b[0mdays_between\u001b[0m\u001b[0;34m(\u001b[0m\u001b[0md1\u001b[0m\u001b[0;34m,\u001b[0m \u001b[0md2\u001b[0m\u001b[0;34m)\u001b[0m\u001b[0;34m:\u001b[0m\u001b[0;34m\u001b[0m\u001b[0;34m\u001b[0m\u001b[0m\n\u001b[0;32m----> 2\u001b[0;31m     \u001b[0md1\u001b[0m \u001b[0;34m=\u001b[0m \u001b[0mdatetime\u001b[0m\u001b[0;34m.\u001b[0m\u001b[0mstrptime\u001b[0m\u001b[0;34m(\u001b[0m\u001b[0md1\u001b[0m\u001b[0;34m,\u001b[0m \u001b[0;34m\"%Y-%m-%d\"\u001b[0m\u001b[0;34m)\u001b[0m\u001b[0;34m\u001b[0m\u001b[0;34m\u001b[0m\u001b[0m\n\u001b[0m\u001b[1;32m      3\u001b[0m     \u001b[0md2\u001b[0m \u001b[0;34m=\u001b[0m \u001b[0mdatetime\u001b[0m\u001b[0;34m.\u001b[0m\u001b[0mstrptime\u001b[0m\u001b[0;34m(\u001b[0m\u001b[0md2\u001b[0m\u001b[0;34m,\u001b[0m \u001b[0;34m\"%Y-%m-%d\"\u001b[0m\u001b[0;34m)\u001b[0m\u001b[0;34m\u001b[0m\u001b[0;34m\u001b[0m\u001b[0m\n\u001b[1;32m      4\u001b[0m     \u001b[0;32mreturn\u001b[0m \u001b[0mabs\u001b[0m\u001b[0;34m(\u001b[0m\u001b[0;34m(\u001b[0m\u001b[0md2\u001b[0m \u001b[0;34m-\u001b[0m \u001b[0md1\u001b[0m\u001b[0;34m)\u001b[0m\u001b[0;34m.\u001b[0m\u001b[0mdays\u001b[0m\u001b[0;34m)\u001b[0m\u001b[0;34m\u001b[0m\u001b[0;34m\u001b[0m\u001b[0m\n",
      "\u001b[0;31mNameError\u001b[0m: name 'datetime' is not defined"
     ]
    }
   ],
   "source": [
    "days_between(\"2075-4-20\" , \"2074-4-21\")"
   ]
  },
  {
   "cell_type": "code",
   "execution_count": 10,
   "metadata": {},
   "outputs": [
    {
     "name": "stdout",
     "output_type": "stream",
     "text": [
      "{'a': 'san', 'b': 'man', 'c': 'han'}\n"
     ]
    }
   ],
   "source": [
    "c = {'a':\"san\"} \n",
    "b= {'b':\"man\" ,'c':\"han\"}\n",
    "c.update(b)\n",
    "print(c)"
   ]
  },
  {
   "cell_type": "code",
   "execution_count": 12,
   "metadata": {},
   "outputs": [
    {
     "name": "stdout",
     "output_type": "stream",
     "text": [
      "3\n"
     ]
    }
   ],
   "source": [
    "c = '3'\n",
    "print(int(c))"
   ]
  },
  {
   "cell_type": "code",
   "execution_count": null,
   "metadata": {},
   "outputs": [],
   "source": []
  }
 ],
 "metadata": {
  "kernelspec": {
   "display_name": "Python 3",
   "language": "python",
   "name": "python3"
  },
  "language_info": {
   "codemirror_mode": {
    "name": "ipython",
    "version": 3
   },
   "file_extension": ".py",
   "mimetype": "text/x-python",
   "name": "python",
   "nbconvert_exporter": "python",
   "pygments_lexer": "ipython3",
   "version": "3.6.7"
  }
 },
 "nbformat": 4,
 "nbformat_minor": 2
}
